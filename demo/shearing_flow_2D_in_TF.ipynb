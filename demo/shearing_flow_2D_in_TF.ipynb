{
 "cells": [
  {
   "cell_type": "markdown",
   "metadata": {},
   "source": [
    "Same as shearing_flow_2D.ipynb but uses Tensorflow version of solver"
   ]
  },
  {
   "cell_type": "code",
   "execution_count": 1,
   "metadata": {},
   "outputs": [],
   "source": [
    "%matplotlib inline\n",
    "import matplotlib.pyplot as plt\n",
    "import numpy as np\n",
    "\n",
    "import tensorflow as tf\n",
    "import tensorflow.contrib.eager as tfe\n",
    "tfe.enable_eager_execution()\n",
    "\n",
    "from advection_solver.advection_tensorflow import vanleer_tendency_2d"
   ]
  },
  {
   "cell_type": "code",
   "execution_count": 2,
   "metadata": {},
   "outputs": [],
   "source": [
    "def deformational_flow(x, y, t):\n",
    "    '''\n",
    "    Compute 2d divergence-free, deformational flow\n",
    "    \n",
    "    Args:\n",
    "      x, y: 2d numpy arrasy, spatial coordinate\n",
    "      y: float, time stamp\n",
    "\n",
    "    Returns:\n",
    "      u, v: 2d numpy arrays, wind velocity\n",
    "    '''\n",
    "    t_period=5  # period for periodic motion\n",
    "    u = np.sin(np.pi*x)**2 * np.sin(2*np.pi*y) * np.cos(np.pi*t/t_period)\n",
    "    v = -np.sin(np.pi*y)**2 * np.sin(2*np.pi*x) * np.cos(np.pi*t/t_period)\n",
    "    return u, v"
   ]
  },
  {
   "cell_type": "code",
   "execution_count": 3,
   "metadata": {},
   "outputs": [],
   "source": [
    "nx = 100\n",
    "ny = 100\n",
    "Lx = 1\n",
    "Ly = 1\n",
    "dx = Lx/nx\n",
    "dy = Ly/ny\n",
    "\n",
    "x, y = np.meshgrid(dx * np.arange(nx), dy * np.arange(ny))\n",
    "\n",
    "u, v = deformational_flow(x, y, 0)\n",
    "\n",
    "# cosine bell as initial condition\n",
    "r = np.clip(4*np.sqrt((x-0.25)**2+(y-0.25)**2), a_min=None, a_max=1)\n",
    "c0 = 0.5*(1+np.cos(np.pi*r))"
   ]
  },
  {
   "cell_type": "code",
   "execution_count": 4,
   "metadata": {},
   "outputs": [],
   "source": [
    "dt = 0.01\n",
    "nt = 250  # t=2.5, the most stretched state. Will then revert back\n",
    "\n",
    "# TF solution\n",
    "c_tensor = tf.convert_to_tensor(c0)\n",
    "\n",
    "for i in range(nt):\n",
    "    t = dt*i\n",
    "    u, v = deformational_flow(x, y, t)\n",
    "    u_tensor = tf.convert_to_tensor(u)\n",
    "    v_tensor = tf.convert_to_tensor(v)\n",
    "    c_tensor += vanleer_tendency_2d(c_tensor, u_tensor, v_tensor, dx, dy, dt, flip_dim=False)"
   ]
  },
  {
   "cell_type": "code",
   "execution_count": 5,
   "metadata": {},
   "outputs": [
    {
     "data": {
      "text/plain": [
       "<matplotlib.colorbar.Colorbar at 0x1c2badea90>"
      ]
     },
     "execution_count": 5,
     "metadata": {},
     "output_type": "execute_result"
    },
    {
     "data": {
      "image/png": "[encoded data removed]",
      "text/plain": [
       "<Figure size 432x288 with 2 Axes>"
      ]
     },
     "metadata": {},
     "output_type": "display_data"
    }
   ],
   "source": [
    "plt.pcolormesh(c_tensor, vmin=0, vmax=1)\n",
    "plt.xlabel('x')\n",
    "plt.xlabel('y')\n",
    "plt.colorbar()\n"
   ]
  },
  {
   "cell_type": "code",
   "execution_count": null,
   "metadata": {},
   "outputs": [],
   "source": []
  }
 ],
 "metadata": {
  "kernelspec": {
   "display_name": "Python 3",
   "language": "python",
   "name": "python3"
  },
  "language_info": {
   "codemirror_mode": {
    "name": "ipython",
    "version": 3
   },
   "file_extension": ".py",
   "mimetype": "text/x-python",
   "name": "python",
   "nbconvert_exporter": "python",
   "pygments_lexer": "ipython3",
   "version": "3.6.6"
  }
 },
 "nbformat": 4,
 "nbformat_minor": 2
}
