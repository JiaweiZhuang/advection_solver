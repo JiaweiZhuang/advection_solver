{
 "cells": [
  {
   "cell_type": "markdown",
   "metadata": {},
   "source": [
    "Use concat as a fast replacement of roll"
   ]
  },
  {
   "cell_type": "code",
   "execution_count": 1,
   "metadata": {},
   "outputs": [],
   "source": [
    "%matplotlib inline\n",
    "import matplotlib.pyplot as plt\n",
    "\n",
    "import numpy as np"
   ]
  },
  {
   "cell_type": "code",
   "execution_count": 2,
   "metadata": {},
   "outputs": [],
   "source": [
    "def upwind_tendency_vect(c, u, dx, dt):\n",
    "    '''\n",
    "    Vectorized version of advection tendency with periodic boundary\n",
    "\n",
    "    Args:\n",
    "      c: 1d numpy array, density field\n",
    "      u: 1d numpy array, wind field\n",
    "      dx: float, grid spacing (assume uniform)\n",
    "      dt: float, time step\n",
    "\n",
    "    Returns:\n",
    "      1d numpy array with same shape as `c`\n",
    "    '''\n",
    "\n",
    "    # re-stagger to C-grid, pointing from box[i-1] to box[i]\n",
    "    # remove this step if input wind is already staggered\n",
    "    # u = 0.5*(u+np.roll(u, 1))\n",
    "\n",
    "    # c_l = np.roll(c, 1)  # so c_l[i] == c[i-1], with periodic boundary\n",
    "    c_l = np.concatenate((c[-1:], c[:-1]))\n",
    "            \n",
    "    flux_right = np.maximum(u, 0) * c_l\n",
    "    flux_left = np.minimum(u, 0) * c\n",
    "    flux = flux_right + flux_left\n",
    "            \n",
    "    # tendency = flux - np.roll(flux, -1)\n",
    "    tendency = flux - np.concatenate((flux[1:], flux[:1]))\n",
    "    \n",
    "    return tendency*dt/dx"
   ]
  },
  {
   "cell_type": "code",
   "execution_count": 3,
   "metadata": {},
   "outputs": [],
   "source": [
    "nx = 100\n",
    "Lx = 1\n",
    "dx = Lx/nx\n",
    "dt = 0.01\n",
    "u = np.ones(nx) * -0.5\n",
    "c0 = np.zeros(nx)\n",
    "c0[int(nx*0.2):int(nx*0.4)] = 1.0"
   ]
  },
  {
   "cell_type": "code",
   "execution_count": 4,
   "metadata": {},
   "outputs": [
    {
     "name": "stdout",
     "output_type": "stream",
     "text": [
      "CPU times: user 129 ms, sys: 8.7 ms, total: 137 ms\n",
      "Wall time: 133 ms\n"
     ]
    }
   ],
   "source": [
    "%%time\n",
    "nt = 10000\n",
    "\n",
    "c1 = c0.copy()\n",
    "for _ in range(nt):\n",
    "    c1 += upwind_tendency_vect(c1, u, dx, dt)\n",
    "# 3x faster than np.roll; still 2~3x slower than numba"
   ]
  },
  {
   "cell_type": "markdown",
   "metadata": {},
   "source": [
    "# TF Eager"
   ]
  },
  {
   "cell_type": "code",
   "execution_count": 5,
   "metadata": {},
   "outputs": [],
   "source": [
    "import tensorflow as tf\n",
    "import tensorflow.contrib.eager as tfe\n",
    "\n",
    "tfe.enable_eager_execution()"
   ]
  },
  {
   "cell_type": "code",
   "execution_count": 6,
   "metadata": {},
   "outputs": [],
   "source": [
    "def upwind_tendency_tf(c, u, dx, dt):\n",
    "    '''\n",
    "    Tensorflow vectorized version of advection tendency with periodic boundary\n",
    "\n",
    "    Args:\n",
    "      c: 1d Tensor, density field\n",
    "      u: 1d Tensor, wind field\n",
    "      dx: 0d Tensor, grid spacing (assume uniform)\n",
    "      dt: 0d Tensor, time step\n",
    "\n",
    "    Returns:\n",
    "      1d Tensor with same shape as `c`\n",
    "    '''\n",
    "    \n",
    "    # re-stagger to C-grid, pointing from box[i-1] to box[i]\n",
    "    # remove this step if input wind is already staggered\n",
    "    # u = 0.5*(u+tf.manip.roll(u, 1, 0))\n",
    "\n",
    "    # c_l = tf.manip.roll(c, 1, 0)  # so c_l[i] == c[i-1], with periodic boundary\n",
    "    c_l = tf.concat((c[-1:], c[:-1]), axis=0)\n",
    "    \n",
    "    # https://www.tensorflow.org/tutorials/non-ml/pdes\n",
    "            \n",
    "    flux_right = tf.maximum(u, 0) * c_l\n",
    "    flux_left = tf.minimum(u, 0) * c\n",
    "    flux = flux_right + flux_left\n",
    "            \n",
    "    tendency = flux - tf.concat((flux[1:], flux[:1]), axis=0)\n",
    "    \n",
    "    return tendency*dt/dx"
   ]
  },
  {
   "cell_type": "code",
   "execution_count": 7,
   "metadata": {},
   "outputs": [
    {
     "name": "stdout",
     "output_type": "stream",
     "text": [
      "CPU times: user 3.55 s, sys: 29.9 ms, total: 3.58 s\n",
      "Wall time: 3.62 s\n"
     ]
    }
   ],
   "source": [
    "%%time\n",
    "nt = 10000\n",
    "u_tensor = tf.convert_to_tensor(u)\n",
    "dx_tensor = tf.convert_to_tensor(dx, dtype=tf.float64)\n",
    "dt_tensor = tf.convert_to_tensor(dt, dtype=tf.float64)\n",
    "c_tensor = tf.convert_to_tensor(c0)\n",
    "\n",
    "for _ in range(nt):\n",
    "    c_tensor += upwind_tendency_tf(c_tensor, u_tensor, dx_tensor, dt_tensor)\n",
    "    \n",
    "# Even slower than using tf.manip.roll()?"
   ]
  },
  {
   "cell_type": "code",
   "execution_count": 8,
   "metadata": {},
   "outputs": [
    {
     "data": {
      "text/plain": [
       "True"
      ]
     },
     "execution_count": 8,
     "metadata": {},
     "output_type": "execute_result"
    }
   ],
   "source": [
    "np.array_equal(c_tensor.numpy(), c1)"
   ]
  }
 ],
 "metadata": {
  "kernelspec": {
   "display_name": "Python 3",
   "language": "python",
   "name": "python3"
  },
  "language_info": {
   "codemirror_mode": {
    "name": "ipython",
    "version": 3
   },
   "file_extension": ".py",
   "mimetype": "text/x-python",
   "name": "python",
   "nbconvert_exporter": "python",
   "pygments_lexer": "ipython3",
   "version": "3.6.6"
  }
 },
 "nbformat": 4,
 "nbformat_minor": 2
}
