{
 "cells": [
  {
   "cell_type": "code",
   "execution_count": 1,
   "metadata": {},
   "outputs": [],
   "source": [
    "%matplotlib inline\n",
    "import matplotlib.pyplot as plt\n",
    "import numpy as np\n",
    "\n",
    "import tensorflow as tf\n",
    "import tensorflow.contrib.eager as tfe\n",
    "\n",
    "tfe.enable_eager_execution()"
   ]
  },
  {
   "cell_type": "markdown",
   "metadata": {},
   "source": [
    "# 1D operator apply to 2D data\n",
    "Only advect over x or y direction."
   ]
  },
  {
   "cell_type": "code",
   "execution_count": 2,
   "metadata": {},
   "outputs": [],
   "source": [
    "def upwind_tendency_1d(c, u, dx, dt, dim=0):\n",
    "    '''\n",
    "    Tensorflow vectorized version of advection tendency with periodic boundary.\n",
    "    Use first-order, upwind approximation\n",
    "    \n",
    "    Works for both 1D and 2D data.\n",
    "    In 2D case, only do one dimension specified by `dim`. \n",
    "    Need to apply over both dimensions to get a true 2D solver (see `vanleer_tendency_2d()`). \n",
    "\n",
    "    Args:\n",
    "      c: 1d or 2d Tensor, density field\n",
    "      u: 1d or 2d Tensor, wind field\n",
    "      dx: 0d Tensor, grid spacing (assume uniform)\n",
    "      dt: 0d Tensor, time step\n",
    "      dim: int, dimension of advection. In 1D, always be 0; in 2D, use 0 for y dimension and 1 for x dimension\n",
    "\n",
    "    Returns:\n",
    "      1d or 2d Tensor with same shape as `c`\n",
    "    '''\n",
    "    \n",
    "    # re-stagger to C-grid, pointing from box[i-1] to box[i]\n",
    "    # remove this step if input wind is already staggered\n",
    "    u = 0.5*(u+tf.manip.roll(u, 1, dim))\n",
    "\n",
    "    c_l = tf.manip.roll(c, 1, dim)  # so c_l[i] == c[i-1], with periodic boundary\n",
    "            \n",
    "    flux_right = tf.maximum(u, 0) * c_l\n",
    "    flux_left = tf.minimum(u, 0) * c\n",
    "    flux = flux_right + flux_left\n",
    "            \n",
    "    tendency = flux - tf.manip.roll(flux, -1, dim)\n",
    "    \n",
    "    return tendency*dt/dx"
   ]
  },
  {
   "cell_type": "code",
   "execution_count": 3,
   "metadata": {},
   "outputs": [],
   "source": [
    "def vanleer_tendency_1d(c, u, dx, dt, dim=0):\n",
    "    '''\n",
    "    Tensorflow vectorized version of advection tendency with periodic boundary.\n",
    "    Use second-order, piece-wise linear approximation with VanLeer flux-limiter.\n",
    "    \n",
    "    Works for both 1D and 2D data.\n",
    "    In 2D case, only do one dimension specified by `dim`. \n",
    "    Need to apply over both dimensions to get a true 2D solver (see `vanleer_tendency_2d()`). \n",
    "\n",
    "    Args:\n",
    "      c: 1d or 2d Tensor, density field\n",
    "      u: 1d or 2d Tensor, wind field\n",
    "      dx: 0d Tensor, grid spacing (assume uniform)\n",
    "      dt: 0d Tensor, time step\n",
    "      dim: int, dimension of advection. In 1D, always be 0; in 2D, use 0 for y dimension and 1 for x dimension\n",
    "\n",
    "    Returns:\n",
    "      1d or 2d Tensor with same shape as `c`\n",
    "    '''\n",
    "    \n",
    "    # re-stagger to C-grid, pointing from box[i-1] to box[i]\n",
    "    # remove this step if input wind is already staggered\n",
    "    u = 0.5*(u+tf.manip.roll(u, 1, dim))\n",
    "    \n",
    "    c_l = tf.manip.roll(c, 1, dim)\n",
    "    c_r = tf.manip.roll(c, -1, dim)\n",
    "    \n",
    "    delta = c - c_l\n",
    "    delta_avg = (delta + tf.manip.roll(delta, -1, dim))/2\n",
    "            \n",
    "    # can also use np.maximum.reduce()\n",
    "    c_max = tf.maximum(c, tf.maximum(c_l, c_r)) # upper boundary\n",
    "    c_min = tf.minimum(c, tf.minimum(c_l, c_r)) # lower boundary\n",
    "    mismatch = tf.sign(delta_avg)*tf.minimum(tf.abs(delta_avg), tf.minimum(2*(c-c_min), 2*(c_max-c)))\n",
    "        \n",
    "    # compute flux from slope\n",
    "    mismatch_l = tf.manip.roll(mismatch, 1, dim)\n",
    "\n",
    "    cfl = u*dt/dx\n",
    "    flux_right = tf.maximum(u, 0) * (c_l + mismatch_l*(1-cfl)/2)\n",
    "    flux_left = tf.minimum(u, 0) * (c - mismatch*(1+cfl)/2)\n",
    "    flux = flux_right + flux_left\n",
    "    \n",
    "    tendency = flux - tf.manip.roll(flux, -1, dim)\n",
    "    \n",
    "    return tendency*dt/dx"
   ]
  },
  {
   "cell_type": "code",
   "execution_count": 4,
   "metadata": {},
   "outputs": [],
   "source": [
    "nx = 100\n",
    "ny = 100\n",
    "Lx = 1\n",
    "Ly = 1\n",
    "dx = Lx/nx\n",
    "dy = Ly/ny\n",
    "dt = 0.01\n",
    "nt = 100\n",
    "\n",
    "u = np.ones([nx, ny]) * 0.5 \n",
    "v = np.ones([nx, ny]) * 0.3\n",
    "\n",
    "c0 = np.zeros([nx, ny])\n",
    "\n",
    "c0[int(ny*0.2):int(ny*0.4), int(nx*0.1):int(nx*0.3)] = 1.0  # 2D square"
   ]
  },
  {
   "cell_type": "code",
   "execution_count": 5,
   "metadata": {},
   "outputs": [
    {
     "name": "stdout",
     "output_type": "stream",
     "text": [
      "CPU times: user 75.6 ms, sys: 12.7 ms, total: 88.3 ms\n",
      "Wall time: 66.8 ms\n"
     ]
    }
   ],
   "source": [
    "%%time\n",
    "\n",
    "u_tensor = tf.convert_to_tensor(u)\n",
    "c_tensor = tf.convert_to_tensor(c0)\n",
    "\n",
    "nt = 50\n",
    "\n",
    "c_tensor = tf.convert_to_tensor(c0)\n",
    "for _ in range(nt):\n",
    "    c_tensor += vanleer_tendency_1d(c_tensor, u_tensor, dx, dt, dim=1)"
   ]
  },
  {
   "cell_type": "code",
   "execution_count": 6,
   "metadata": {},
   "outputs": [
    {
     "data": {
      "text/plain": [
       "Text(0.5,1,'initial condition')"
      ]
     },
     "execution_count": 6,
     "metadata": {},
     "output_type": "execute_result"
    },
    {
     "data": {
      "image/png": "[encoded data removed]",
      "text/plain": [
       "<Figure size 432x288 with 2 Axes>"
      ]
     },
     "metadata": {},
     "output_type": "display_data"
    }
   ],
   "source": [
    "plt.pcolormesh(c0)\n",
    "plt.xlabel('x')\n",
    "plt.ylabel('y')\n",
    "plt.colorbar()\n",
    "plt.title('initial condition')"
   ]
  },
  {
   "cell_type": "code",
   "execution_count": 7,
   "metadata": {},
   "outputs": [
    {
     "data": {
      "text/plain": [
       "Text(0.5,1,'Second-order (Van-Leer)')"
      ]
     },
     "execution_count": 7,
     "metadata": {},
     "output_type": "execute_result"
    },
    {
     "data": {
      "image/png": "[encoded data removed]",
      "text/plain": [
       "<Figure size 432x288 with 2 Axes>"
      ]
     },
     "metadata": {},
     "output_type": "display_data"
    }
   ],
   "source": [
    "plt.pcolormesh(c_tensor.numpy())\n",
    "plt.xlabel('x')\n",
    "plt.ylabel('y')\n",
    "plt.colorbar()\n",
    "plt.title('Second-order (Van-Leer)')"
   ]
  },
  {
   "cell_type": "markdown",
   "metadata": {},
   "source": [
    "# True 2D operator by combing 1D operators"
   ]
  },
  {
   "cell_type": "code",
   "execution_count": 8,
   "metadata": {},
   "outputs": [],
   "source": [
    "def vanleer_tendency_2d(c, u, v, dx, dy, dt):\n",
    "    '''\n",
    "    2D advection tendency with periodic boundary\n",
    "    Use second-order (VanLeer) scheme for outer operator and upwind for inner operator\n",
    "\n",
    "    Args:\n",
    "      c: 2d Tensor, density field\n",
    "      u: 2d Tensor, wind field in x direction\n",
    "      v: 2d Tensor, wind field in y direction\n",
    "      dx: 0d Tensor, grid spacing (assume uniform)\n",
    "      dy: 0d Tensor, grid spacing (assume uniform, but can be different from dx)\n",
    "      dt: 0d Tensor, time step\n",
    "\n",
    "    Returns:\n",
    "      2d Tensor with same shape as `c`\n",
    "    '''\n",
    "\n",
    "    # operator splitting in x and y directions\n",
    "    tendency = (vanleer_tendency_1d(0.5*upwind_tendency_1d(c, v, dy, dt, dim=0) + c, u, dx, dt, dim=1) +\n",
    "                vanleer_tendency_1d(0.5*upwind_tendency_1d(c, u, dx, dt, dim=1) + c, v, dy, dt, dim=0)\n",
    "                )\n",
    "\n",
    "    return tendency"
   ]
  },
  {
   "cell_type": "code",
   "execution_count": 9,
   "metadata": {},
   "outputs": [
    {
     "name": "stdout",
     "output_type": "stream",
     "text": [
      "CPU times: user 342 ms, sys: 34.2 ms, total: 376 ms\n",
      "Wall time: 312 ms\n"
     ]
    }
   ],
   "source": [
    "%%time\n",
    "# second time will be much faster (due to jit)\n",
    "c_tensor = tf.convert_to_tensor(c0)\n",
    "\n",
    "nt = 100\n",
    "\n",
    "for _ in range(nt):\n",
    "    c_tensor += vanleer_tendency_2d(c_tensor, u, v, dx, dy, dt)\n",
    "    \n",
    "# only 50% slower than numba version (see below), much better than in 1D case!"
   ]
  },
  {
   "cell_type": "code",
   "execution_count": 10,
   "metadata": {},
   "outputs": [
    {
     "data": {
      "text/plain": [
       "Text(0.5,1,'Second-order (Van-Leer)')"
      ]
     },
     "execution_count": 10,
     "metadata": {},
     "output_type": "execute_result"
    },
    {
     "data": {
      "image/png": "[encoded data removed]",
      "text/plain": [
       "<Figure size 432x288 with 2 Axes>"
      ]
     },
     "metadata": {},
     "output_type": "display_data"
    }
   ],
   "source": [
    "plt.pcolormesh(c_tensor.numpy())\n",
    "plt.xlabel('x')\n",
    "plt.ylabel('y')\n",
    "plt.colorbar()\n",
    "plt.title('Second-order (Van-Leer)')"
   ]
  },
  {
   "cell_type": "markdown",
   "metadata": {},
   "source": [
    "## Compare with numpy version"
   ]
  },
  {
   "cell_type": "code",
   "execution_count": 11,
   "metadata": {},
   "outputs": [],
   "source": [
    "from advection_solver.advection_2d import tendency_2d_vanleer"
   ]
  },
  {
   "cell_type": "code",
   "execution_count": 13,
   "metadata": {},
   "outputs": [
    {
     "name": "stdout",
     "output_type": "stream",
     "text": [
      "CPU times: user 191 ms, sys: 3.19 ms, total: 194 ms\n",
      "Wall time: 193 ms\n"
     ]
    }
   ],
   "source": [
    "%%time\n",
    "# second time will be much faster (due to jit)\n",
    "nt = 100\n",
    "c = c0.copy()\n",
    "for _ in range(nt):\n",
    "    c += tendency_2d_vanleer(c, u, v, dx, dy, dt)"
   ]
  },
  {
   "cell_type": "code",
   "execution_count": 14,
   "metadata": {},
   "outputs": [
    {
     "data": {
      "text/plain": [
       "True"
      ]
     },
     "execution_count": 14,
     "metadata": {},
     "output_type": "execute_result"
    }
   ],
   "source": [
    "np.allclose(c_tensor.numpy(), c)"
   ]
  },
  {
   "cell_type": "code",
   "execution_count": null,
   "metadata": {},
   "outputs": [],
   "source": []
  }
 ],
 "metadata": {
  "kernelspec": {
   "display_name": "Python 3",
   "language": "python",
   "name": "python3"
  },
  "language_info": {
   "codemirror_mode": {
    "name": "ipython",
    "version": 3
   },
   "file_extension": ".py",
   "mimetype": "text/x-python",
   "name": "python",
   "nbconvert_exporter": "python",
   "pygments_lexer": "ipython3",
   "version": "3.6.6"
  }
 },
 "nbformat": 4,
 "nbformat_minor": 2
}
