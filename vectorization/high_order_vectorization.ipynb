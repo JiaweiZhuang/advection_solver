{
 "cells": [
  {
   "cell_type": "code",
   "execution_count": 1,
   "metadata": {},
   "outputs": [],
   "source": [
    "%matplotlib inline\n",
    "import matplotlib.pyplot as plt\n",
    "\n",
    "from numba import jit\n",
    "import numpy as np\n",
    "\n",
    "from advection_solver.util import roll"
   ]
  },
  {
   "cell_type": "code",
   "execution_count": 2,
   "metadata": {},
   "outputs": [],
   "source": [
    "@jit(nopython=True)\n",
    "def vanleer_tendency_loop(c, u, dx, dt):\n",
    "    \"\"\"\n",
    "    Second-order flux-limited (VanLeer) tendency with periodic boundary\n",
    "\n",
    "    Args:\n",
    "      c: 1d numpy array, density field\n",
    "      u: 1d numpy array, wind field\n",
    "      dx: float, grid spacing (assume uniform)\n",
    "      dt: float, time step\n",
    "\n",
    "    Returns:\n",
    "      1d numpy array with same shape as `c`\n",
    "\n",
    "    Reference: The \"mono-5\" limiter in\n",
    "    Lin, S.-J., et al. (1994). \"A class of the van Leer-type transport schemes and its application to the moisture transport in a general circulation model.\"\n",
    "    \"\"\"\n",
    "\n",
    "    nx = c.size\n",
    "\n",
    "    # re-stagger to C-grid, pointing from box[i-1] to box[i]\n",
    "    # remove this step if input wind is already staggered\n",
    "    # u = 0.5*(u+np.roll(u, 1))\n",
    "    cfl = u*dt/dx\n",
    "\n",
    "    c_l = roll(c, 1)  # so c_l[i] == c[i-1], with periodic boundary\n",
    "    c_r = roll(c, -1)\n",
    "\n",
    "    mismatch = np.empty(nx)  # left-right difference in piecewise-linear reconstruction\n",
    "    flux = np.empty(nx)  # flux[i] is the flux from box[i-1] to box[i]\n",
    "\n",
    "    delta = c - c_l\n",
    "    delta_avg = (delta + roll(delta, -1))/2\n",
    "\n",
    "    # compute slope (mismatch) in piecewise-linear reconstruction\n",
    "    for i in range(nx):\n",
    "        # compute local limiter\n",
    "        c_max = max(c[i], c_l[i], c_r[i])  # upper boundary\n",
    "        c_min = min(c[i], c_l[i], c_r[i])  # lower boundary\n",
    "        mismatch[i] = np.sign(delta_avg[i])*min(abs(delta_avg[i]),\n",
    "                                                2*(c[i]-c_min),\n",
    "                                                2*(c_max-c[i]))\n",
    "\n",
    "    # compute flux from slope\n",
    "    mismatch_l = roll(mismatch, 1)\n",
    "    for i in range(nx):\n",
    "        if u[i] > 0:\n",
    "            flux[i] = u[i]*(c_l[i]+mismatch_l[i]/2*(1-cfl[i]))\n",
    "        else:\n",
    "            flux[i] = u[i]*(c[i]-mismatch[i]/2*(1+cfl[i]))\n",
    "\n",
    "    tendency = flux - roll(flux, -1)\n",
    "    return tendency*dt/dx"
   ]
  },
  {
   "cell_type": "code",
   "execution_count": 3,
   "metadata": {},
   "outputs": [],
   "source": [
    "@jit(nopython=True)\n",
    "def vanleer_tendency_vect(c, u, dx, dt):\n",
    "    '''\n",
    "    Vectorized version of advection tendency with periodic boundary\n",
    "\n",
    "    Args:\n",
    "      c: 1d numpy array, density field\n",
    "      u: 1d numpy array, wind field\n",
    "      dx: float, grid spacing (assume uniform)\n",
    "      dt: float, time step\n",
    "\n",
    "    Returns:\n",
    "      1d numpy array with same shape as `c`\n",
    "    '''\n",
    "\n",
    "    # re-stagger to C-grid, pointing from box[i-1] to box[i]\n",
    "    # remove this step if input wind is already staggered\n",
    "    # u = 0.5*(u+np.roll(u, 1))\n",
    "\n",
    "    c_l = roll(c, 1)  # so c_l[i] == c[i-1], with periodic boundary\n",
    "    c_r = roll(c, -1)\n",
    "    \n",
    "    delta = c - c_l\n",
    "    delta_avg = (delta + roll(delta, -1))/2\n",
    "            \n",
    "    # can also use np.maximum.reduce()\n",
    "    c_max = np.maximum(c, np.maximum(c_l, c_r)) # upper boundary\n",
    "    c_min = np.minimum(c, np.minimum(c_l, c_r)) # lower boundary\n",
    "    mismatch = np.sign(delta_avg)*np.minimum(np.abs(delta_avg), np.minimum(2*(c-c_min), 2*(c_max-c)))\n",
    "        \n",
    "    # compute flux from slope\n",
    "    mismatch_l = roll(mismatch, 1)\n",
    "\n",
    "    cfl = u*dt/dx\n",
    "    flux_right = np.maximum(u, 0) * (c_l + mismatch_l*(1-cfl)/2)\n",
    "    flux_left = np.minimum(u, 0) * (c - mismatch*(1+cfl)/2)\n",
    "    flux = flux_right + flux_left\n",
    "    \n",
    "    tendency = flux - roll(flux, -1)\n",
    "\n",
    "    return tendency*dt/dx"
   ]
  },
  {
   "cell_type": "code",
   "execution_count": 4,
   "metadata": {},
   "outputs": [],
   "source": [
    "nx = 100\n",
    "Lx = 1\n",
    "dx = Lx/nx\n",
    "dt = 0.01\n",
    "u = np.ones(nx) * -0.5\n",
    "c0 = np.zeros(nx)\n",
    "c0[int(nx*0.2):int(nx*0.4)] = 1.0"
   ]
  },
  {
   "cell_type": "code",
   "execution_count": 6,
   "metadata": {},
   "outputs": [
    {
     "name": "stdout",
     "output_type": "stream",
     "text": [
      "CPU times: user 81.6 ms, sys: 1.77 ms, total: 83.3 ms\n",
      "Wall time: 82.7 ms\n"
     ]
    }
   ],
   "source": [
    "%%time\n",
    "# run at least twice to jit-compile\n",
    "nt = 10000\n",
    "\n",
    "c1 = c0.copy()\n",
    "for _ in range(nt):\n",
    "    c1 += vanleer_tendency_loop(c1, u, dx, dt)"
   ]
  },
  {
   "cell_type": "code",
   "execution_count": 8,
   "metadata": {},
   "outputs": [
    {
     "name": "stdout",
     "output_type": "stream",
     "text": [
      "CPU times: user 109 ms, sys: 2.33 ms, total: 112 ms\n",
      "Wall time: 111 ms\n"
     ]
    }
   ],
   "source": [
    "%%time\n",
    "# run at least twice to jit-compile\n",
    "nt = 10000\n",
    "\n",
    "c2 = c0.copy()\n",
    "for _ in range(nt):\n",
    "    c2 += vanleer_tendency_vect(c2, u, dx, dt)\n",
    "    \n",
    "# with numba roll, almost as fast as original.\n",
    "# will be 4x slower without jit-compiling the function body (why?)\n",
    "# further 2x slower if np.roll is used"
   ]
  },
  {
   "cell_type": "code",
   "execution_count": 9,
   "metadata": {},
   "outputs": [
    {
     "data": {
      "text/plain": [
       "True"
      ]
     },
     "execution_count": 9,
     "metadata": {},
     "output_type": "execute_result"
    }
   ],
   "source": [
    "np.array_equal(c1, c2)"
   ]
  },
  {
   "cell_type": "code",
   "execution_count": 10,
   "metadata": {},
   "outputs": [
    {
     "data": {
      "text/plain": [
       "Text(0.5,1,'flux-limited scheme')"
      ]
     },
     "execution_count": 10,
     "metadata": {},
     "output_type": "execute_result"
    },
    {
     "data": {
      "image/png": "[encoded data removed]",
      "text/plain": [
       "<Figure size 432x288 with 1 Axes>"
      ]
     },
     "metadata": {},
     "output_type": "display_data"
    }
   ],
   "source": [
    "plt.plot(c1)\n",
    "plt.title('flux-limited scheme')"
   ]
  },
  {
   "cell_type": "code",
   "execution_count": null,
   "metadata": {},
   "outputs": [],
   "source": []
  }
 ],
 "metadata": {
  "kernelspec": {
   "display_name": "Python 3",
   "language": "python",
   "name": "python3"
  },
  "language_info": {
   "codemirror_mode": {
    "name": "ipython",
    "version": 3
   },
   "file_extension": ".py",
   "mimetype": "text/x-python",
   "name": "python",
   "nbconvert_exporter": "python",
   "pygments_lexer": "ipython3",
   "version": "3.6.6"
  }
 },
 "nbformat": 4,
 "nbformat_minor": 2
}
