{
 "cells": [
  {
   "cell_type": "markdown",
   "metadata": {},
   "source": [
    "Implementing 1D upwind scheme in vectorized form in numpy and tensorflow.\n",
    "Demonstrate performance issue with np.roll and tf.manip.roll."
   ]
  },
  {
   "cell_type": "code",
   "execution_count": 1,
   "metadata": {},
   "outputs": [],
   "source": [
    "%matplotlib inline\n",
    "import matplotlib.pyplot as plt\n",
    "\n",
    "from numba import jit\n",
    "import numpy as np\n",
    "\n",
    "from advection_solver.util import roll"
   ]
  },
  {
   "cell_type": "code",
   "execution_count": 2,
   "metadata": {},
   "outputs": [],
   "source": [
    "@jit(nopython=True)\n",
    "def upwind_tendency_loop(c, u, dx, dt):\n",
    "    '''\n",
    "    Loop version of advection tendency with periodic boundary\n",
    "\n",
    "    Args:\n",
    "      c: 1d numpy array, density field\n",
    "      u: 1d numpy array, wind field\n",
    "      dx: float, grid spacing (assume uniform)\n",
    "      dt: float, time step\n",
    "\n",
    "    Returns:\n",
    "      1d numpy array with same shape as `c`\n",
    "    '''\n",
    "    \n",
    "    nx = c.size\n",
    "\n",
    "    # re-stagger to C-grid, pointing from box[i-1] to box[i]\n",
    "    # remove this step if input wind is already staggered\n",
    "    # u = 0.5*(u+roll(u, 1))\n",
    "    \n",
    "    c_l = roll(c, 1)  # so c_l[i] == c[i-1], with periodic boundary\n",
    "    \n",
    "    flux = np.empty(nx)\n",
    "    for i in range(nx):\n",
    "        if u[i] > 0:\n",
    "            flux[i] = u[i]*c_l[i]\n",
    "        else:\n",
    "            flux[i] = u[i]*c[i]\n",
    "            \n",
    "    tendency = flux - roll(flux, -1)\n",
    "    \n",
    "    return tendency*dt/dx"
   ]
  },
  {
   "cell_type": "code",
   "execution_count": 3,
   "metadata": {},
   "outputs": [],
   "source": [
    "def upwind_tendency_vect(c, u, dx, dt):\n",
    "    '''\n",
    "    Vectorized version of advection tendency with periodic boundary\n",
    "\n",
    "    Args:\n",
    "      c: 1d numpy array, density field\n",
    "      u: 1d numpy array, wind field\n",
    "      dx: float, grid spacing (assume uniform)\n",
    "      dt: float, time step\n",
    "\n",
    "    Returns:\n",
    "      1d numpy array with same shape as `c`\n",
    "    '''\n",
    "\n",
    "    # re-stagger to C-grid, pointing from box[i-1] to box[i]\n",
    "    # remove this step if input wind is already staggered\n",
    "    # u = 0.5*(u+np.roll(u, 1))\n",
    "\n",
    "    c_l = np.roll(c, 1)  # so c_l[i] == c[i-1], with periodic boundary\n",
    "            \n",
    "    flux_right = np.maximum(u, 0) * c_l\n",
    "    flux_left = np.minimum(u, 0) * c\n",
    "    flux = flux_right + flux_left\n",
    "            \n",
    "    tendency = flux - np.roll(flux, -1)\n",
    "    \n",
    "    return tendency*dt/dx"
   ]
  },
  {
   "cell_type": "code",
   "execution_count": 4,
   "metadata": {},
   "outputs": [],
   "source": [
    "nx = 100\n",
    "Lx = 1\n",
    "dx = Lx/nx\n",
    "dt = 0.01\n",
    "u = np.ones(nx) * -0.5\n",
    "c0 = np.zeros(nx)\n",
    "c0[int(nx*0.2):int(nx*0.4)] = 1.0"
   ]
  },
  {
   "cell_type": "code",
   "execution_count": 7,
   "metadata": {},
   "outputs": [
    {
     "name": "stdout",
     "output_type": "stream",
     "text": [
      "CPU times: user 58 ms, sys: 3.26 ms, total: 61.3 ms\n",
      "Wall time: 60.6 ms\n"
     ]
    }
   ],
   "source": [
    "%%time\n",
    "# run at least twice to jit-compile\n",
    "nt = 10000\n",
    "\n",
    "c1 = c0.copy()\n",
    "for _ in range(nt):\n",
    "    c1 += upwind_tendency_loop(c1, u, dx, dt)"
   ]
  },
  {
   "cell_type": "code",
   "execution_count": 8,
   "metadata": {},
   "outputs": [
    {
     "name": "stdout",
     "output_type": "stream",
     "text": [
      "CPU times: user 365 ms, sys: 12.9 ms, total: 378 ms\n",
      "Wall time: 369 ms\n"
     ]
    }
   ],
   "source": [
    "%%time\n",
    "nt = 10000\n",
    "\n",
    "c2 = c0.copy()\n",
    "for _ in range(nt):\n",
    "    c2 += upwind_tendency_vect(c2, u, dx, dt)\n",
    "    \n",
    "# Almost 10x slower than numba! "
   ]
  },
  {
   "cell_type": "code",
   "execution_count": 9,
   "metadata": {},
   "outputs": [
    {
     "data": {
      "text/plain": [
       "True"
      ]
     },
     "execution_count": 9,
     "metadata": {},
     "output_type": "execute_result"
    }
   ],
   "source": [
    "np.array_equal(c1, c2)"
   ]
  },
  {
   "cell_type": "code",
   "execution_count": 10,
   "metadata": {},
   "outputs": [
    {
     "data": {
      "text/plain": [
       "Text(0.5,1,'upwind scheme')"
      ]
     },
     "execution_count": 10,
     "metadata": {},
     "output_type": "execute_result"
    },
    {
     "data": {
      "image/png": "[encoded data removed]",
      "text/plain": [
       "<Figure size 432x288 with 1 Axes>"
      ]
     },
     "metadata": {},
     "output_type": "display_data"
    }
   ],
   "source": [
    "plt.plot(c1)\n",
    "plt.title('upwind scheme')"
   ]
  },
  {
   "cell_type": "markdown",
   "metadata": {},
   "source": [
    "## Fix the slowness of np.roll"
   ]
  },
  {
   "cell_type": "code",
   "execution_count": 11,
   "metadata": {},
   "outputs": [],
   "source": [
    "def upwind_tendency_vect_numba_roll(c, u, dx, dt):\n",
    "    '''\n",
    "    Vectorized version of advection tendency with periodic boundary\n",
    "    Use numba version of roll; other part still uses numpy vectorization\n",
    "\n",
    "    Args:\n",
    "      c: 1d numpy array, density field\n",
    "      u: 1d numpy array, wind field\n",
    "      dx: float, grid spacing (assume uniform)\n",
    "      dt: float, time step\n",
    "\n",
    "    Returns:\n",
    "      1d numpy array with same shape as `c`\n",
    "    '''\n",
    "\n",
    "    # re-stagger to C-grid, pointing from box[i-1] to box[i]\n",
    "    # remove this step if input wind is already staggered\n",
    "    # u = 0.5*(u+np.roll(u, 1))\n",
    "\n",
    "    c_l = roll(c, 1)  # so c_l[i] == c[i-1], with periodic boundary\n",
    "            \n",
    "    flux_right = np.maximum(u, 0) * c_l\n",
    "    flux_left = np.minimum(u, 0) * c\n",
    "    flux = flux_right + flux_left\n",
    "            \n",
    "    tendency = flux - roll(flux, -1)\n",
    "    \n",
    "    return tendency*dt/dx"
   ]
  },
  {
   "cell_type": "code",
   "execution_count": 13,
   "metadata": {},
   "outputs": [
    {
     "name": "stdout",
     "output_type": "stream",
     "text": [
      "CPU times: user 121 ms, sys: 2.65 ms, total: 124 ms\n",
      "Wall time: 122 ms\n"
     ]
    }
   ],
   "source": [
    "%%time\n",
    "# run at least twice to jit-compile\n",
    "nt = 10000\n",
    "\n",
    "c3 = c0.copy()\n",
    "for _ in range(nt):\n",
    "    c3 += upwind_tendency_vect_numba_roll(c3, u, dx, dt)\n",
    "    \n",
    "# 5x faster than original. Indeed np.roll is something to blame"
   ]
  },
  {
   "cell_type": "code",
   "execution_count": 14,
   "metadata": {},
   "outputs": [
    {
     "data": {
      "text/plain": [
       "True"
      ]
     },
     "execution_count": 14,
     "metadata": {},
     "output_type": "execute_result"
    }
   ],
   "source": [
    "np.array_equal(c1, c3)"
   ]
  },
  {
   "cell_type": "code",
   "execution_count": 15,
   "metadata": {},
   "outputs": [],
   "source": [
    "# see if there's further speed-up by jit-ting the function body\n",
    "upwind_tendency_vect_numba_roll_jit = jit(upwind_tendency_vect_numba_roll, nopython=True)"
   ]
  },
  {
   "cell_type": "code",
   "execution_count": 17,
   "metadata": {},
   "outputs": [
    {
     "name": "stdout",
     "output_type": "stream",
     "text": [
      "CPU times: user 54.7 ms, sys: 1.95 ms, total: 56.6 ms\n",
      "Wall time: 57.2 ms\n"
     ]
    }
   ],
   "source": [
    "%%time\n",
    "# run at least twice to jit-compile\n",
    "nt = 10000\n",
    "\n",
    "c4 = c0.copy()\n",
    "for _ in range(nt):\n",
    "    c4 += upwind_tendency_vect_numba_roll_jit(c4, u, dx, dt)\n",
    "    \n",
    "# 2x faster than before. Match pure numba version. Not sure due to the speed-up of which part."
   ]
  },
  {
   "cell_type": "code",
   "execution_count": 18,
   "metadata": {},
   "outputs": [
    {
     "data": {
      "text/plain": [
       "True"
      ]
     },
     "execution_count": 18,
     "metadata": {},
     "output_type": "execute_result"
    }
   ],
   "source": [
    "np.array_equal(c1, c4)"
   ]
  },
  {
   "cell_type": "markdown",
   "metadata": {},
   "source": [
    "# TF Eager"
   ]
  },
  {
   "cell_type": "markdown",
   "metadata": {},
   "source": [
    "## Matrix multiplication benchmark against numpy"
   ]
  },
  {
   "cell_type": "code",
   "execution_count": 19,
   "metadata": {},
   "outputs": [],
   "source": [
    "import tensorflow as tf\n",
    "import tensorflow.contrib.eager as tfe\n",
    "\n",
    "tfe.enable_eager_execution()"
   ]
  },
  {
   "cell_type": "code",
   "execution_count": 20,
   "metadata": {},
   "outputs": [
    {
     "name": "stdout",
     "output_type": "stream",
     "text": [
      "CPU times: user 329 ms, sys: 9.85 ms, total: 339 ms\n",
      "Wall time: 177 ms\n"
     ]
    }
   ],
   "source": [
    "# numpy\n",
    "A = np.random.rand(2000, 2000)\n",
    "B = np.random.rand(2000, 2000)\n",
    "%time C = np.matmul(A, B)"
   ]
  },
  {
   "cell_type": "code",
   "execution_count": 21,
   "metadata": {},
   "outputs": [
    {
     "name": "stdout",
     "output_type": "stream",
     "text": [
      "CPU times: user 1.24 s, sys: 41.1 ms, total: 1.28 s\n",
      "Wall time: 345 ms\n"
     ]
    }
   ],
   "source": [
    "# TF eager\n",
    "A_tensor = tf.convert_to_tensor(A)\n",
    "B_tensor = tf.convert_to_tensor(B)\n",
    "\n",
    "%time C_tensor = tf.matmul(A_tensor, B_tensor)"
   ]
  },
  {
   "cell_type": "code",
   "execution_count": 22,
   "metadata": {},
   "outputs": [
    {
     "data": {
      "text/plain": [
       "(True, False)"
      ]
     },
     "execution_count": 22,
     "metadata": {},
     "output_type": "execute_result"
    }
   ],
   "source": [
    "np.allclose(C, C_tensor.numpy(), rtol=1e-20, atol=1e-12), np.array_equal(C, C_tensor.numpy())"
   ]
  },
  {
   "cell_type": "code",
   "execution_count": 23,
   "metadata": {},
   "outputs": [
    {
     "name": "stdout",
     "output_type": "stream",
     "text": [
      "CPU times: user 739 ms, sys: 17.9 ms, total: 757 ms\n",
      "Wall time: 231 ms\n"
     ]
    }
   ],
   "source": [
    "# TF graph\n",
    "with tf.Graph().as_default():\n",
    "    a = tf.random_normal((2000, 2000))\n",
    "    b = tf.random_normal((2000, 2000))\n",
    "    c = tf.matmul(a, b)\n",
    "      \n",
    "    with tf.Session() as sess:\n",
    "        %time sess.run(c)"
   ]
  },
  {
   "cell_type": "markdown",
   "metadata": {},
   "source": [
    "## Upwind in TF Eager"
   ]
  },
  {
   "cell_type": "code",
   "execution_count": 24,
   "metadata": {},
   "outputs": [],
   "source": [
    "def upwind_tendency_tf(c, u, dx, dt):\n",
    "    '''\n",
    "    Tensorflow vectorized version of advection tendency with periodic boundary\n",
    "\n",
    "    Args:\n",
    "      c: 1d Tensor, density field\n",
    "      u: 1d Tensor, wind field\n",
    "      dx: 0d Tensor, grid spacing (assume uniform)\n",
    "      dt: 0d Tensor, time step\n",
    "\n",
    "    Returns:\n",
    "      1d Tensor with same shape as `c`\n",
    "    '''\n",
    "    \n",
    "    # re-stagger to C-grid, pointing from box[i-1] to box[i]\n",
    "    # remove this step if input wind is already staggered\n",
    "    # u = 0.5*(u+tf.manip.roll(u, 1, 0))\n",
    "\n",
    "    c_l = tf.manip.roll(c, 1, 0)  # so c_l[i] == c[i-1], with periodic boundary\n",
    "            \n",
    "    flux_right = tf.maximum(u, 0) * c_l\n",
    "    flux_left = tf.minimum(u, 0) * c\n",
    "    flux = flux_right + flux_left\n",
    "            \n",
    "    tendency = flux - tf.manip.roll(flux, -1, 0)\n",
    "    \n",
    "    return tendency*dt/dx"
   ]
  },
  {
   "cell_type": "code",
   "execution_count": 25,
   "metadata": {},
   "outputs": [],
   "source": [
    "u_tensor = tf.convert_to_tensor(u)"
   ]
  },
  {
   "cell_type": "code",
   "execution_count": 28,
   "metadata": {},
   "outputs": [
    {
     "name": "stdout",
     "output_type": "stream",
     "text": [
      "CPU times: user 2.17 s, sys: 178 ms, total: 2.35 s\n",
      "Wall time: 1.73 s\n"
     ]
    }
   ],
   "source": [
    "%%time\n",
    "nt = 10000\n",
    "\n",
    "c_tensor = tf.convert_to_tensor(c0)\n",
    "for _ in range(nt):\n",
    "    c_tensor += upwind_tendency_tf(c_tensor, u_tensor, dx, dt)\n",
    "    \n",
    "# ~4 slower numpy (with np.roll) and 50x slower than numba\n",
    "# Probably due to tf.manip.roll()\n",
    "\n",
    "# Q: not sure if that's the proper way of time marching. c_tensor will have an id > 100000 at the end of loop\n",
    "# The \"official\" PDE example (https://www.tensorflow.org/tutorials/non-ml/pdes) updates Variable values, not creating new nodes."
   ]
  },
  {
   "cell_type": "code",
   "execution_count": 29,
   "metadata": {},
   "outputs": [
    {
     "data": {
      "text/plain": [
       "True"
      ]
     },
     "execution_count": 29,
     "metadata": {},
     "output_type": "execute_result"
    }
   ],
   "source": [
    "np.array_equal(c_tensor.numpy(), c1) "
   ]
  }
 ],
 "metadata": {
  "kernelspec": {
   "display_name": "Python 3",
   "language": "python",
   "name": "python3"
  },
  "language_info": {
   "codemirror_mode": {
    "name": "ipython",
    "version": 3
   },
   "file_extension": ".py",
   "mimetype": "text/x-python",
   "name": "python",
   "nbconvert_exporter": "python",
   "pygments_lexer": "ipython3",
   "version": "3.6.6"
  }
 },
 "nbformat": 4,
 "nbformat_minor": 2
}
